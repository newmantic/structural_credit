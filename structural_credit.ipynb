{
  "nbformat": 4,
  "nbformat_minor": 0,
  "metadata": {
    "colab": {
      "provenance": [],
      "authorship_tag": "ABX9TyMI8fW7XdcHSAMgTbI5cWbH",
      "include_colab_link": true
    },
    "kernelspec": {
      "name": "python3",
      "display_name": "Python 3"
    },
    "language_info": {
      "name": "python"
    }
  },
  "cells": [
    {
      "cell_type": "markdown",
      "metadata": {
        "id": "view-in-github",
        "colab_type": "text"
      },
      "source": [
        "<a href=\"https://colab.research.google.com/github/newmantic/structural_credit/blob/main/structural_credit.ipynb\" target=\"_parent\"><img src=\"https://colab.research.google.com/assets/colab-badge.svg\" alt=\"Open In Colab\"/></a>"
      ]
    },
    {
      "cell_type": "code",
      "execution_count": 1,
      "metadata": {
        "id": "8WhNsf6sr3xR"
      },
      "outputs": [],
      "source": [
        "import numpy as np\n",
        "from scipy.stats import norm\n",
        "\n",
        "def simulate_asset_value(initial_value: float, mu: float, sigma: float, dt: float, time_horizon: float) -> np.ndarray:\n",
        "    \"\"\"\n",
        "    Simulate the asset value using geometric Brownian motion.\n",
        "\n",
        "    Args:\n",
        "    initial_value (float): Initial value of the asset.\n",
        "    mu (float): Drift rate of the asset value.\n",
        "    sigma (float): Volatility of the asset value.\n",
        "    dt (float): Time step for the simulation.\n",
        "    time_horizon (float): Total time for the simulation.\n",
        "\n",
        "    Returns:\n",
        "    np.ndarray: Simulated asset values over time.\n",
        "    \"\"\"\n",
        "    num_steps = int(time_horizon / dt)\n",
        "    asset_values = np.zeros(num_steps)\n",
        "    asset_values[0] = initial_value\n",
        "\n",
        "    for t in range(1, num_steps):\n",
        "        dW = np.random.normal(0, np.sqrt(dt))\n",
        "        asset_values[t] = asset_values[t-1] * np.exp((mu - 0.5 * sigma**2) * dt + sigma * dW)\n",
        "\n",
        "    return asset_values\n",
        "\n",
        "def distance_to_default(asset_value: float, debt_value: float, risk_free_rate: float, volatility: float, time: float) -> float:\n",
        "    \"\"\"\n",
        "    Calculate the distance to default.\n",
        "\n",
        "    Args:\n",
        "    asset_value (float): Current value of the company's assets.\n",
        "    debt_value (float): Value of the company's debt (default point).\n",
        "    risk_free_rate (float): Risk-free interest rate.\n",
        "    volatility (float): Volatility of the asset value.\n",
        "    time (float): Time to maturity or time horizon.\n",
        "\n",
        "    Returns:\n",
        "    float: Distance to default.\n",
        "    \"\"\"\n",
        "    numerator = np.log(asset_value / debt_value) + (risk_free_rate + 0.5 * volatility**2) * time\n",
        "    denominator = volatility * np.sqrt(time)\n",
        "    return numerator / denominator\n",
        "\n",
        "def default_probability(asset_value: float, debt_value: float, risk_free_rate: float, volatility: float, time: float) -> float:\n",
        "    \"\"\"\n",
        "    Calculate the default probability using the structural credit model.\n",
        "\n",
        "    Args:\n",
        "    asset_value (float): Current value of the company's assets.\n",
        "    debt_value (float): Value of the company's debt (default point).\n",
        "    risk_free_rate (float): Risk-free interest rate.\n",
        "    volatility (float): Volatility of the asset value.\n",
        "    time (float): Time to maturity or time horizon.\n",
        "\n",
        "    Returns:\n",
        "    float: Default probability.\n",
        "    \"\"\"\n",
        "    d2 = distance_to_default(asset_value, debt_value, risk_free_rate, volatility, time)\n",
        "    return norm.cdf(-d2)\n",
        "\n",
        "def credit_spread(asset_value: float, debt_value: float, risk_free_rate: float, volatility: float, time: float, recovery_rate: float) -> float:\n",
        "    \"\"\"\n",
        "    Estimate the credit spread based on the default probability.\n",
        "\n",
        "    Args:\n",
        "    asset_value (float): Current value of the company's assets.\n",
        "    debt_value (float): Value of the company's debt (default point).\n",
        "    risk_free_rate (float): Risk-free interest rate.\n",
        "    volatility (float): Volatility of the asset value.\n",
        "    time (float): Time to maturity or time horizon.\n",
        "    recovery_rate (float): Recovery rate in case of default.\n",
        "\n",
        "    Returns:\n",
        "    float: Estimated credit spread.\n",
        "    \"\"\"\n",
        "    prob_default = default_probability(asset_value, debt_value, risk_free_rate, volatility, time)\n",
        "    return prob_default * (1 - recovery_rate)"
      ]
    },
    {
      "cell_type": "code",
      "source": [
        "# Test case 1: Simulate Asset Value Dynamics\n",
        "initial_value = 1000.0\n",
        "mu = 0.05  # Drift rate\n",
        "sigma = 0.2  # Volatility\n",
        "dt = 0.01  # Time step\n",
        "time_horizon = 1.0  # 1 year\n",
        "simulated_values = simulate_asset_value(initial_value, mu, sigma, dt, time_horizon)\n",
        "print(f\"Simulated Asset Values: {simulated_values[:5]}...\")  # Expected: Array of simulated values over time\n",
        "\n",
        "# Test case 2: Calculate Distance to Default\n",
        "asset_value = 1000.0\n",
        "debt_value = 800.0\n",
        "risk_free_rate = 0.03\n",
        "volatility = 0.2\n",
        "time_horizon = 1.0  # 1 year\n",
        "distance = distance_to_default(asset_value, debt_value, risk_free_rate, volatility, time_horizon)\n",
        "print(f\"Distance to Default: {distance:.4f}\")  # Expected: A positive value representing distance to default\n",
        "\n",
        "# Test case 3: Calculate Default Probability\n",
        "default_prob = default_probability(asset_value, debt_value, risk_free_rate, volatility, time_horizon)\n",
        "print(f\"Default Probability: {default_prob:.4f}\")  # Expected: A value between 0 and 1 representing the probability of default\n",
        "\n",
        "# Test case 4: Estimate Credit Spread\n",
        "recovery_rate = 0.4\n",
        "spread = credit_spread(asset_value, debt_value, risk_free_rate, volatility, time_horizon, recovery_rate)\n",
        "print(f\"Estimated Credit Spread: {spread:.4f}\")  # Expected: A value representing the credit spread in basis points or percentage"
      ],
      "metadata": {
        "colab": {
          "base_uri": "https://localhost:8080/"
        },
        "id": "GN_YP5LCsh0Q",
        "outputId": "8114c7fa-5c5e-4af4-8864-71da72da69cd"
      },
      "execution_count": 2,
      "outputs": [
        {
          "output_type": "stream",
          "name": "stdout",
          "text": [
            "Simulated Asset Values: [1000.          977.74584936  956.45295205  951.90637208  941.41323978]...\n",
            "Distance to Default: 1.3657\n",
            "Default Probability: 0.0860\n",
            "Estimated Credit Spread: 0.0516\n"
          ]
        }
      ]
    }
  ]
}